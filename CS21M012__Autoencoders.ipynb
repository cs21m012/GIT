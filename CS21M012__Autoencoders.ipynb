{
  "nbformat": 4,
  "nbformat_minor": 0,
  "metadata": {
    "colab": {
      "provenance": []
    },
    "kernelspec": {
      "name": "python3",
      "display_name": "Python 3"
    },
    "language_info": {
      "name": "python"
    }
  },
  "cells": [
    {
      "cell_type": "code",
      "execution_count": null,
      "metadata": {
        "id": "pn_xTNHwME69"
      },
      "outputs": [],
      "source": [
        "import torch\n",
        "from torch import nn\n",
        "from sklearn.datasets import load_boston\n",
        "#from sklearn.datasets import load_digits\n",
        "\n",
        "import warnings\n",
        "import numpy as np"
      ]
    },
    {
      "cell_type": "code",
      "source": [
        "with warnings.catch_warnings():\n",
        "    warnings.filterwarnings(\"ignore\")\n",
        "    X,y = load_boston(return_X_y=True)"
      ],
      "metadata": {
        "id": "pTco5Ez0PZzG"
      },
      "execution_count": null,
      "outputs": []
    },
    {
      "cell_type": "code",
      "source": [
        "#X,y=load_digits(return_X_y=True)"
      ],
      "metadata": {
        "id": "IivCIRgNrYeO"
      },
      "execution_count": null,
      "outputs": []
    },
    {
      "cell_type": "code",
      "source": [
        "import pandas as pd  # doctest: +SKIP\n",
        "import numpy as np\n",
        "\n",
        "data_url = \"http://lib.stat.cmu.edu/datasets/boston\"\n",
        "raw_df = pd.read_csv(data_url, sep=\"\\s+\", skiprows=22, header=None)\n",
        "X= np.hstack([raw_df.values[::2, :], raw_df.values[1::2, :2]])\n",
        "y = raw_df.values[1::2, 2]"
      ],
      "metadata": {
        "id": "SwftGH6epGaV"
      },
      "execution_count": null,
      "outputs": []
    },
    {
      "cell_type": "code",
      "source": [
        "X[0]"
      ],
      "metadata": {
        "colab": {
          "base_uri": "https://localhost:8080/"
        },
        "id": "fdWGYod9QJFL",
        "outputId": "433996f1-fcee-4c10-a2fd-d3304cb20518"
      },
      "execution_count": null,
      "outputs": [
        {
          "output_type": "execute_result",
          "data": {
            "text/plain": [
              "array([6.320e-03, 1.800e+01, 2.310e+00, 0.000e+00, 5.380e-01, 6.575e+00,\n",
              "       6.520e+01, 4.090e+00, 1.000e+00, 2.960e+02, 1.530e+01, 3.969e+02,\n",
              "       4.980e+00])"
            ]
          },
          "metadata": {},
          "execution_count": 53
        }
      ]
    },
    {
      "cell_type": "code",
      "source": [
        "print(np.any(X))"
      ],
      "metadata": {
        "colab": {
          "base_uri": "https://localhost:8080/"
        },
        "id": "aujgVorgQqH_",
        "outputId": "ef03d164-b3eb-4fec-8194-b2848a8c44a6"
      },
      "execution_count": null,
      "outputs": [
        {
          "output_type": "stream",
          "name": "stdout",
          "text": [
            "True\n"
          ]
        }
      ]
    },
    {
      "cell_type": "code",
      "source": [
        "X_np = torch.from_numpy(X)"
      ],
      "metadata": {
        "id": "s0DwUd3fRf30"
      },
      "execution_count": null,
      "outputs": []
    },
    {
      "cell_type": "code",
      "source": [
        "print(type(X_np))"
      ],
      "metadata": {
        "colab": {
          "base_uri": "https://localhost:8080/"
        },
        "id": "kcXV-V_PWaw0",
        "outputId": "4c525cd9-b6c2-4689-e235-a4a29cc3f234"
      },
      "execution_count": null,
      "outputs": [
        {
          "output_type": "stream",
          "name": "stdout",
          "text": [
            "<class 'torch.Tensor'>\n"
          ]
        }
      ]
    },
    {
      "cell_type": "code",
      "source": [
        "X_np = X_np.double()"
      ],
      "metadata": {
        "id": "oDyKU-SzWhS5"
      },
      "execution_count": null,
      "outputs": []
    },
    {
      "cell_type": "code",
      "source": [
        "type(X_np)"
      ],
      "metadata": {
        "colab": {
          "base_uri": "https://localhost:8080/"
        },
        "id": "fYMw-LKmYOHO",
        "outputId": "2be5520e-d4d6-4d40-8ba1-ba8d454d3b2c"
      },
      "execution_count": null,
      "outputs": [
        {
          "output_type": "execute_result",
          "data": {
            "text/plain": [
              "torch.Tensor"
            ]
          },
          "metadata": {},
          "execution_count": 58
        }
      ]
    },
    {
      "cell_type": "code",
      "source": [
        "\n",
        "import torch.nn.functional as F\n",
        "class AutoEncoder(nn.Module):\n",
        "    def __init__(self):\n",
        "        super().__init__()\n",
        "        self.fc1 = nn.Linear(13, 50)\n",
        "        self.fc2=nn.Linear(50,10)\n",
        "        self.fc3= nn.Linear(10, 13)\n",
        "    \n",
        "    def forward(self, x):\n",
        "        x = self.fc1(x)\n",
        "        x=F.relu(x)\n",
        "        x= self.fc2(x)\n",
        "        x=F.relu(x)\n",
        "        x= self.fc3(x)\n",
        "        return x"
      ],
      "metadata": {
        "id": "vgYAh1qcMmeG"
      },
      "execution_count": null,
      "outputs": []
    },
    {
      "cell_type": "code",
      "source": [
        "def loss_fn(x_input, x_constructed):                        #x_input and x_constructed here should be tensors here\n",
        "    loss = torch.mean((x_input-x_constructed)**2)\n",
        "    return loss"
      ],
      "metadata": {
        "id": "HJYnDx7ZORwZ"
      },
      "execution_count": null,
      "outputs": []
    },
    {
      "cell_type": "code",
      "source": [
        "model = AutoEncoder()\n",
        "model.double()"
      ],
      "metadata": {
        "colab": {
          "base_uri": "https://localhost:8080/"
        },
        "id": "_kzMfKQdOXnj",
        "outputId": "c4716b2e-fab9-405c-93f9-b6cfbb9304e8"
      },
      "execution_count": null,
      "outputs": [
        {
          "output_type": "execute_result",
          "data": {
            "text/plain": [
              "AutoEncoder(\n",
              "  (fc1): Linear(in_features=13, out_features=50, bias=True)\n",
              "  (fc2): Linear(in_features=50, out_features=10, bias=True)\n",
              "  (fc3): Linear(in_features=10, out_features=13, bias=True)\n",
              ")"
            ]
          },
          "metadata": {},
          "execution_count": 61
        }
      ]
    },
    {
      "cell_type": "code",
      "source": [
        "X0_out = model(X_np[0])"
      ],
      "metadata": {
        "id": "YfLc2JtEU44c"
      },
      "execution_count": null,
      "outputs": []
    },
    {
      "cell_type": "code",
      "source": [
        "val = loss_fn(X0_out, X_np[0])"
      ],
      "metadata": {
        "id": "Z84ENmxJVIa5"
      },
      "execution_count": null,
      "outputs": []
    },
    {
      "cell_type": "code",
      "source": [
        "val"
      ],
      "metadata": {
        "colab": {
          "base_uri": "https://localhost:8080/"
        },
        "id": "UV5DZZ7tbKfO",
        "outputId": "8612fbd9-24c9-4b9a-bfc7-2746aa92e2f3"
      },
      "execution_count": null,
      "outputs": [
        {
          "output_type": "execute_result",
          "data": {
            "text/plain": [
              "tensor(20325.6335, dtype=torch.float64, grad_fn=<MeanBackward0>)"
            ]
          },
          "metadata": {},
          "execution_count": 64
        }
      ]
    },
    {
      "cell_type": "code",
      "source": [
        "optim = torch.optim.SGD(model.parameters(), lr=1e-3)"
      ],
      "metadata": {
        "id": "0ifILaF9bPDP"
      },
      "execution_count": null,
      "outputs": []
    },
    {
      "cell_type": "code",
      "source": [
        "from sklearn.model_selection import train_test_split\n",
        "X_train, X_test = train_test_split(X, test_size=0.33, random_state=42)"
      ],
      "metadata": {
        "id": "RSgVX1GwdnBx"
      },
      "execution_count": null,
      "outputs": []
    },
    {
      "cell_type": "code",
      "source": [
        "X_train"
      ],
      "metadata": {
        "colab": {
          "base_uri": "https://localhost:8080/"
        },
        "id": "_r2S1unEeJuj",
        "outputId": "a73c8e29-6da0-433e-e84d-cc54383fc366"
      },
      "execution_count": null,
      "outputs": [
        {
          "output_type": "execute_result",
          "data": {
            "text/plain": [
              "array([[1.02330e+01, 0.00000e+00, 1.81000e+01, ..., 2.02000e+01,\n",
              "        3.79700e+02, 1.80300e+01],\n",
              "       [6.71910e-01, 0.00000e+00, 8.14000e+00, ..., 2.10000e+01,\n",
              "        3.76880e+02, 1.48100e+01],\n",
              "       [1.44550e-01, 1.25000e+01, 7.87000e+00, ..., 1.52000e+01,\n",
              "        3.96900e+02, 1.91500e+01],\n",
              "       ...,\n",
              "       [1.50100e-02, 8.00000e+01, 2.01000e+00, ..., 1.70000e+01,\n",
              "        3.90940e+02, 5.99000e+00],\n",
              "       [1.11604e+01, 0.00000e+00, 1.81000e+01, ..., 2.02000e+01,\n",
              "        1.09850e+02, 2.32700e+01],\n",
              "       [2.28760e-01, 0.00000e+00, 8.56000e+00, ..., 2.09000e+01,\n",
              "        7.08000e+01, 1.06300e+01]])"
            ]
          },
          "metadata": {},
          "execution_count": 67
        }
      ]
    },
    {
      "cell_type": "code",
      "source": [
        "X_test"
      ],
      "metadata": {
        "colab": {
          "base_uri": "https://localhost:8080/"
        },
        "id": "PcT6wQ5ReMNy",
        "outputId": "1ba90d42-cea8-4362-b9c2-6566b6e83409"
      },
      "execution_count": null,
      "outputs": [
        {
          "output_type": "execute_result",
          "data": {
            "text/plain": [
              "array([[9.17800e-02, 0.00000e+00, 4.05000e+00, ..., 1.66000e+01,\n",
              "        3.95500e+02, 9.04000e+00],\n",
              "       [5.64400e-02, 4.00000e+01, 6.41000e+00, ..., 1.76000e+01,\n",
              "        3.96900e+02, 3.53000e+00],\n",
              "       [1.05740e-01, 0.00000e+00, 2.77400e+01, ..., 2.01000e+01,\n",
              "        3.90110e+02, 1.80700e+01],\n",
              "       ...,\n",
              "       [7.61620e-01, 2.00000e+01, 3.97000e+00, ..., 1.30000e+01,\n",
              "        3.92400e+02, 1.04500e+01],\n",
              "       [1.00245e+00, 0.00000e+00, 8.14000e+00, ..., 2.10000e+01,\n",
              "        3.80230e+02, 1.19800e+01],\n",
              "       [5.20140e-01, 2.00000e+01, 3.97000e+00, ..., 1.30000e+01,\n",
              "        3.86860e+02, 5.91000e+00]])"
            ]
          },
          "metadata": {},
          "execution_count": 68
        }
      ]
    },
    {
      "cell_type": "code",
      "source": [
        "from torch.utils.data import Dataset, DataLoader\n",
        "from torchvision import datasets\n",
        "from torchvision.transforms import ToTensor\n",
        "\n",
        "batch_size = 64\n",
        "train_dataloader = DataLoader(X_train, batch_size=batch_size)\n",
        "test_dataloader = DataLoader(X_test, batch_size=batch_size)"
      ],
      "metadata": {
        "id": "Zn2DdV__eRlw"
      },
      "execution_count": null,
      "outputs": []
    },
    {
      "cell_type": "code",
      "source": [
        "def train_model(train_dataloder, model, loss_fn, optim, epochs):\n",
        "    for epoch in range(epochs):\n",
        "        model.train()\n",
        "        running_loss = 0\n",
        "        for i, X in enumerate(train_dataloader):\n",
        "  \n",
        "\n",
        "            X1 = model(X)\n",
        "            loss = loss_fn(X, X1)\n",
        "            \n",
        "            optim.zero_grad()\n",
        "            loss.backward()\n",
        "            optim.step()\n",
        "\n",
        "            # print statistics\n",
        "            running_loss += loss.item()\n",
        "        print(f'[{epoch + 1}, {i + 1:5d}] loss: {running_loss / 10:.3f}')\n",
        "        running_loss = 0.0\n",
        "    print(\"Finished\")"
      ],
      "metadata": {
        "id": "jOuhmFjrbu3T"
      },
      "execution_count": null,
      "outputs": []
    },
    {
      "cell_type": "code",
      "source": [
        "train_model(train_dataloader, model, loss_fn, optim, 10)"
      ],
      "metadata": {
        "colab": {
          "base_uri": "https://localhost:8080/"
        },
        "id": "GH_vdmLFcBJO",
        "outputId": "d8866975-1db2-46c3-cd30-60838ff050a7"
      },
      "execution_count": null,
      "outputs": [
        {
          "output_type": "stream",
          "name": "stdout",
          "text": [
            "[1,     6] loss: 107099.882\n",
            "[2,     6] loss: 15491.050\n",
            "[3,     6] loss: 15465.691\n",
            "[4,     6] loss: 15440.379\n",
            "[5,     6] loss: 15415.113\n",
            "[6,     6] loss: 15389.895\n",
            "[7,     6] loss: 15364.722\n",
            "[8,     6] loss: 15339.597\n",
            "[9,     6] loss: 15314.517\n",
            "[10,     6] loss: 15289.484\n",
            "Finished\n"
          ]
        }
      ]
    },
    {
      "cell_type": "code",
      "source": [
        "!pip install torchmetrics"
      ],
      "metadata": {
        "colab": {
          "base_uri": "https://localhost:8080/"
        },
        "id": "obMcFzRHAYy5",
        "outputId": "bfd63a4b-6170-4209-d2fa-6e59d87652fe"
      },
      "execution_count": null,
      "outputs": [
        {
          "output_type": "stream",
          "name": "stdout",
          "text": [
            "Looking in indexes: https://pypi.org/simple, https://us-python.pkg.dev/colab-wheels/public/simple/\n",
            "Collecting torchmetrics\n",
            "  Downloading torchmetrics-0.10.3-py3-none-any.whl (529 kB)\n",
            "\u001b[K     |████████████████████████████████| 529 kB 5.2 MB/s \n",
            "\u001b[?25hRequirement already satisfied: typing-extensions in /usr/local/lib/python3.7/dist-packages (from torchmetrics) (4.1.1)\n",
            "Requirement already satisfied: packaging in /usr/local/lib/python3.7/dist-packages (from torchmetrics) (21.3)\n",
            "Requirement already satisfied: torch>=1.3.1 in /usr/local/lib/python3.7/dist-packages (from torchmetrics) (1.12.1+cu113)\n",
            "Requirement already satisfied: numpy>=1.17.2 in /usr/local/lib/python3.7/dist-packages (from torchmetrics) (1.21.6)\n",
            "Requirement already satisfied: pyparsing!=3.0.5,>=2.0.2 in /usr/local/lib/python3.7/dist-packages (from packaging->torchmetrics) (3.0.9)\n",
            "Installing collected packages: torchmetrics\n",
            "Successfully installed torchmetrics-0.10.3\n"
          ]
        }
      ]
    },
    {
      "cell_type": "code",
      "source": [],
      "metadata": {
        "id": "NhIlRkSXKGtv"
      },
      "execution_count": null,
      "outputs": []
    },
    {
      "cell_type": "code",
      "execution_count": null,
      "metadata": {
        "id": "89dpX4J-p56p"
      },
      "outputs": [],
      "source": [
        "\n",
        "def train_network(train_loader, optimizer,criteria, e):\n",
        "  for epoch in range(e): \n",
        "\n",
        "    running_loss = 0.0\n",
        "    for i, data in enumerate(train_loader, 0):\n",
        "        \n",
        "        inputs, labels = data\n",
        "\n",
        "      \n",
        "        optimizer.zero_grad()\n",
        "\n",
        "        outputs = model(inputs)\n",
        "      \n",
        "        tmp = torch.nn.functional.one_hot(labels, num_classes= 10)\n",
        "        loss = criteria(outputs, tmp)\n",
        "        loss.backward()\n",
        "        optimizer.step()\n",
        "        running_loss += loss.item()\n",
        "        if i % 2000 == 1999:   \n",
        "            print(f'[{epoch + 1}, {i + 1:5d}] loss: {running_loss / 2000:.3f}')\n",
        "            running_loss = 0.0\n",
        "\n",
        "  print('Finished Training')"
      ]
    }
  ]
}